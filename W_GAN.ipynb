{
 "cells": [
  {
   "cell_type": "code",
   "execution_count": 5,
   "id": "147b66be",
   "metadata": {},
   "outputs": [],
   "source": [
    "import tensorflow as tf\n",
    "from tensorflow import keras\n",
    "from visual import save_gan, cvt_gif\n",
    "import numpy as np\n",
    "from utils import set_soft_gpu, save_weights\n",
    "from tensorflow.keras.layers import Input,Conv2D, Dropout, Flatten, Dense, Reshape, Conv2DTranspose, ReLU, BatchNormalization,LeakyReLU \n",
    "# from mnist_ds import get_train_x\n",
    "import time"
   ]
  },
  {
   "cell_type": "code",
   "execution_count": 2,
   "id": "42e54c7a",
   "metadata": {},
   "outputs": [
    {
     "name": "stdout",
     "output_type": "stream",
     "text": [
      "Device mapping:\n",
      "/job:localhost/replica:0/task:0/device:GPU:0 -> device: 0, name: NVIDIA GeForce RTX 3060 Ti, pci bus id: 0000:09:00.0, compute capability: 8.6\n",
      "\n"
     ]
    }
   ],
   "source": [
    "sess = tf.compat.v1.Session(config=tf.compat.v1.ConfigProto(log_device_placement=True))"
   ]
  },
  {
   "cell_type": "markdown",
   "id": "baa70556",
   "metadata": {},
   "source": [
    "# 資料集讀取"
   ]
  },
  {
   "cell_type": "code",
   "execution_count": 2,
   "id": "f2128fa0",
   "metadata": {},
   "outputs": [
    {
     "name": "stdout",
     "output_type": "stream",
     "text": [
      "Found 10000 images belonging to 1 classes.\n"
     ]
    }
   ],
   "source": [
    "train_dir = \"./100k_black\"\n",
    "batch_size = 64\n",
    "def preprocessingDataSet(image):\n",
    "    image = (image.astype(np.float32))/ 255. * 2 - 1\n",
    "    return image\n",
    "train_datagen = keras.preprocessing.image.ImageDataGenerator(preprocessing_function=preprocessingDataSet)\n",
    "\n",
    "train_generator = train_datagen.flow_from_directory(\n",
    " train_dir,\n",
    " target_size=(24,24),\n",
    " batch_size=batch_size,\n",
    " class_mode=None,\n",
    " color_mode=\"grayscale\"\n",
    ")"
   ]
  },
  {
   "cell_type": "markdown",
   "id": "e42515c7",
   "metadata": {},
   "source": [
    "# Model"
   ]
  },
  {
   "cell_type": "code",
   "execution_count": 14,
   "id": "1be6a6f0",
   "metadata": {},
   "outputs": [],
   "source": [
    "class WGAN(keras.Model):\n",
    "    \"\"\"\n",
    "    Wasserstein 距离作为损失函数， 避免D太强导致G的梯度消失。\n",
    "    D 最大化 Wasserstein 距离，提高收敛性\n",
    "    G 最小化 Wasserstein 距离\n",
    "    Clip D weights，局限住太强的 D，让 G 可以跟上 (Lipschitz 约束)。\n",
    "    \"\"\"\n",
    "    def __init__(self, latent_dim, clip, img_shape):\n",
    "        super().__init__()\n",
    "        self.latent_dim = latent_dim\n",
    "        self.clip = clip\n",
    "        self.img_shape = img_shape\n",
    "        self.opt = keras.optimizers.Adam(0.0002, beta_1=0, beta_2=0.9)\n",
    "        self.g = self._get_generator()\n",
    "        self._build_d()\n",
    "\n",
    "    def _build_d(self):\n",
    "        self.d = self._get_discriminator()\n",
    "\n",
    "    def call(self, n, training=None, mask=None):\n",
    "        return self.g.call(tf.random.normal((n, self.latent_dim)), training=training)\n",
    "\n",
    "    def _get_generator(self):\n",
    "        model = keras.Sequential(name=\"generator\")\n",
    "        # [n, 100] -> [n, 6 * 6 * 128] -> [n, 6, 6, 128]\n",
    "        model.add(Input( shape=self.latent_dim ) )\n",
    "        model.add(Dense(6 * 6 * 128))\n",
    "        \n",
    "        model.add(BatchNormalization())\n",
    "        model.add(ReLU())\n",
    "        model.add(Reshape((6, 6, 128)))\n",
    "        # -> [n, 12, 12, 64]\n",
    "        model.add(Conv2DTranspose(64, kernel_size=(4, 4), strides=(2, 2), padding='same'))\n",
    "        model.add(BatchNormalization())\n",
    "        model.add(ReLU())\n",
    "        # -> [n, 24, 24, 32]\n",
    "        model.add(Conv2DTranspose(32, kernel_size=(4, 4), strides=(2, 2), padding='same'))\n",
    "        model.add(BatchNormalization())\n",
    "        model.add(ReLU())\n",
    "        # -> [n, 24, 24, 1]\n",
    "        model.add(Conv2D(1, (4, 4), padding='same', activation=keras.activations.tanh))\n",
    "        \n",
    "        model.summary()\n",
    "        return model\n",
    "    def _get_discriminator(self):\n",
    "        model = keras.Sequential(name=\"discriminator\")\n",
    "        model.add(Input( shape=self.img_shape ) )\n",
    "        model.add(Conv2D(64, (4, 4), strides=(2, 2), padding='same'))\n",
    "        model.add(BatchNormalization())\n",
    "        model.add(LeakyReLU())\n",
    "        model.add(Dropout(0.3))\n",
    "        \n",
    "        model.add(Conv2D(128, (4, 4), strides=(2, 2), padding='same'))\n",
    "        model.add(BatchNormalization())\n",
    "        model.add(LeakyReLU())\n",
    "        model.add(Dropout(0.3))\n",
    "        model.add(Flatten())\n",
    "        model.add(Dense(1))\n",
    "        model.summary()\n",
    "        return model\n",
    "\n",
    "    @staticmethod\n",
    "    def w_distance(fake, real=None):\n",
    "        # the distance of two data distributions\n",
    "        if real is None:\n",
    "            return tf.reduce_mean(fake)\n",
    "        else:\n",
    "            return tf.reduce_mean(fake) - tf.reduce_mean(real)\n",
    "\n",
    "    def train_d(self, real_img):\n",
    "        with tf.GradientTape() as tape:\n",
    "            fake_img = self.call(len(real_img), training=False)\n",
    "            pred_real = self.d.call(real_img, training=True)\n",
    "            pred_fake = self.d.call(fake_img, training=True)\n",
    "            loss = self.w_distance(pred_fake, pred_real)   # maximize W distance\n",
    "        grads = tape.gradient(loss, self.d.trainable_variables)\n",
    "        self.opt.apply_gradients(zip(grads, self.d.trainable_variables))\n",
    "        # clip discriminator's weights\n",
    "        for w in self.d.trainable_weights:\n",
    "            w.assign(tf.clip_by_value(w, -self.clip, self.clip))\n",
    "        return loss\n",
    "\n",
    "    def train_g(self, n):\n",
    "        with tf.GradientTape() as tape:\n",
    "            g_img = self.call(n, training=True)\n",
    "            pred_fake = self.d.call(g_img, training=False)\n",
    "            loss = -self.w_distance(pred_fake)       # minimize W distance\n",
    "        grads = tape.gradient(loss, self.g.trainable_variables)\n",
    "        self.opt.apply_gradients(zip(grads, self.g.trainable_variables))\n",
    "        return loss\n",
    "\n",
    "    \n",
    "def train(gan, steps, d_loop):\n",
    "    t0 = time.time()\n",
    "    for t in range(steps):\n",
    "        for _ in range(d_loop):\n",
    "            real_img = train_generator.next()\n",
    "            real_img = tf.convert_to_tensor(real_img)\n",
    "            d_loss = gan.train_d(real_img)\n",
    "        g_loss = gan.train_g(batch_size)\n",
    "        if t % 1000 == 0:\n",
    "            t1 = time.time()\n",
    "            print(\"t={} | time={:.1f} | d_loss={:.2f} | g_loss={:.2f}\".format(\n",
    "                    t, t1 - t0, d_loss.numpy(), g_loss.numpy(), ))\n",
    "            t0 = t1\n",
    "            save_gan(gan, t)\n",
    "            gan.g.save(\"./\"+str(t)+\"/\")\n",
    "    save_weights(gan)\n",
    "    cvt_gif(gan)\n",
    "    "
   ]
  },
  {
   "cell_type": "code",
   "execution_count": 15,
   "id": "408d29e5",
   "metadata": {},
   "outputs": [
    {
     "name": "stdout",
     "output_type": "stream",
     "text": [
      "Model: \"generator\"\n",
      "_________________________________________________________________\n",
      " Layer (type)                Output Shape              Param #   \n",
      "=================================================================\n",
      " dense_6 (Dense)             (None, 4608)              465408    \n",
      "                                                                 \n",
      " batch_normalization_15 (Bat  (None, 4608)             18432     \n",
      " chNormalization)                                                \n",
      "                                                                 \n",
      " re_lu_9 (ReLU)              (None, 4608)              0         \n",
      "                                                                 \n",
      " reshape_3 (Reshape)         (None, 6, 6, 128)         0         \n",
      "                                                                 \n",
      " conv2d_transpose_6 (Conv2DT  (None, 12, 12, 64)       131136    \n",
      " ranspose)                                                       \n",
      "                                                                 \n",
      " batch_normalization_16 (Bat  (None, 12, 12, 64)       256       \n",
      " chNormalization)                                                \n",
      "                                                                 \n",
      " re_lu_10 (ReLU)             (None, 12, 12, 64)        0         \n",
      "                                                                 \n",
      " conv2d_transpose_7 (Conv2DT  (None, 24, 24, 32)       32800     \n",
      " ranspose)                                                       \n",
      "                                                                 \n",
      " batch_normalization_17 (Bat  (None, 24, 24, 32)       128       \n",
      " chNormalization)                                                \n",
      "                                                                 \n",
      " re_lu_11 (ReLU)             (None, 24, 24, 32)        0         \n",
      "                                                                 \n",
      " conv2d_9 (Conv2D)           (None, 24, 24, 1)         513       \n",
      "                                                                 \n",
      "=================================================================\n",
      "Total params: 648,673\n",
      "Trainable params: 639,265\n",
      "Non-trainable params: 9,408\n",
      "_________________________________________________________________\n",
      "Model: \"discriminator\"\n",
      "_________________________________________________________________\n",
      " Layer (type)                Output Shape              Param #   \n",
      "=================================================================\n",
      " conv2d_10 (Conv2D)          (None, 12, 12, 64)        1088      \n",
      "                                                                 \n",
      " batch_normalization_18 (Bat  (None, 12, 12, 64)       256       \n",
      " chNormalization)                                                \n",
      "                                                                 \n",
      " leaky_re_lu_6 (LeakyReLU)   (None, 12, 12, 64)        0         \n",
      "                                                                 \n",
      " dropout_6 (Dropout)         (None, 12, 12, 64)        0         \n",
      "                                                                 \n",
      " conv2d_11 (Conv2D)          (None, 6, 6, 128)         131200    \n",
      "                                                                 \n",
      " batch_normalization_19 (Bat  (None, 6, 6, 128)        512       \n",
      " chNormalization)                                                \n",
      "                                                                 \n",
      " leaky_re_lu_7 (LeakyReLU)   (None, 6, 6, 128)         0         \n",
      "                                                                 \n",
      " dropout_7 (Dropout)         (None, 6, 6, 128)         0         \n",
      "                                                                 \n",
      " flatten_3 (Flatten)         (None, 4608)              0         \n",
      "                                                                 \n",
      " dense_7 (Dense)             (None, 1)                 4609      \n",
      "                                                                 \n",
      "=================================================================\n",
      "Total params: 137,665\n",
      "Trainable params: 137,281\n",
      "Non-trainable params: 384\n",
      "_________________________________________________________________\n"
     ]
    }
   ],
   "source": [
    "LATENT_DIM = 100\n",
    "CLIP = 0.01\n",
    "D_LOOP = 5\n",
    "IMG_SHAPE = (24, 24, 1)\n",
    "# BATCH_SIZE = 64\n",
    "STEP = 20001\n",
    "m = WGAN(LATENT_DIM, CLIP, IMG_SHAPE)"
   ]
  },
  {
   "cell_type": "code",
   "execution_count": 16,
   "id": "4df237f8",
   "metadata": {
    "scrolled": true
   },
   "outputs": [
    {
     "name": "stdout",
     "output_type": "stream",
     "text": [
      "t=0 | time=0.4 | d_loss=-0.00 | g_loss=-0.00\n",
      "WARNING:tensorflow:Compiled the loaded model, but the compiled metrics have yet to be built. `model.compile_metrics` will be empty until you train or evaluate the model.\n"
     ]
    },
    {
     "name": "stderr",
     "output_type": "stream",
     "text": [
      "WARNING:tensorflow:Compiled the loaded model, but the compiled metrics have yet to be built. `model.compile_metrics` will be empty until you train or evaluate the model.\n",
      "WARNING:absl:Found untraced functions such as _jit_compiled_convolution_op, _jit_compiled_convolution_op, _jit_compiled_convolution_op while saving (showing 3 of 3). These functions will not be directly callable after loading.\n"
     ]
    },
    {
     "name": "stdout",
     "output_type": "stream",
     "text": [
      "INFO:tensorflow:Assets written to: ./0/assets\n"
     ]
    },
    {
     "name": "stderr",
     "output_type": "stream",
     "text": [
      "INFO:tensorflow:Assets written to: ./0/assets\n"
     ]
    },
    {
     "name": "stdout",
     "output_type": "stream",
     "text": [
      "t=1000 | time=249.3 | d_loss=-0.00 | g_loss=-0.00\n",
      "WARNING:tensorflow:Compiled the loaded model, but the compiled metrics have yet to be built. `model.compile_metrics` will be empty until you train or evaluate the model.\n"
     ]
    },
    {
     "name": "stderr",
     "output_type": "stream",
     "text": [
      "WARNING:tensorflow:Compiled the loaded model, but the compiled metrics have yet to be built. `model.compile_metrics` will be empty until you train or evaluate the model.\n",
      "WARNING:absl:Found untraced functions such as _jit_compiled_convolution_op, _jit_compiled_convolution_op, _jit_compiled_convolution_op while saving (showing 3 of 3). These functions will not be directly callable after loading.\n"
     ]
    },
    {
     "name": "stdout",
     "output_type": "stream",
     "text": [
      "INFO:tensorflow:Assets written to: ./1000/assets\n"
     ]
    },
    {
     "name": "stderr",
     "output_type": "stream",
     "text": [
      "INFO:tensorflow:Assets written to: ./1000/assets\n"
     ]
    },
    {
     "name": "stdout",
     "output_type": "stream",
     "text": [
      "t=2000 | time=254.1 | d_loss=-0.00 | g_loss=-0.00\n",
      "WARNING:tensorflow:Compiled the loaded model, but the compiled metrics have yet to be built. `model.compile_metrics` will be empty until you train or evaluate the model.\n"
     ]
    },
    {
     "name": "stderr",
     "output_type": "stream",
     "text": [
      "WARNING:tensorflow:Compiled the loaded model, but the compiled metrics have yet to be built. `model.compile_metrics` will be empty until you train or evaluate the model.\n",
      "WARNING:absl:Found untraced functions such as _jit_compiled_convolution_op, _jit_compiled_convolution_op, _jit_compiled_convolution_op while saving (showing 3 of 3). These functions will not be directly callable after loading.\n"
     ]
    },
    {
     "name": "stdout",
     "output_type": "stream",
     "text": [
      "INFO:tensorflow:Assets written to: ./2000/assets\n"
     ]
    },
    {
     "name": "stderr",
     "output_type": "stream",
     "text": [
      "INFO:tensorflow:Assets written to: ./2000/assets\n"
     ]
    },
    {
     "name": "stdout",
     "output_type": "stream",
     "text": [
      "t=3000 | time=248.1 | d_loss=-0.00 | g_loss=-0.00\n",
      "WARNING:tensorflow:Compiled the loaded model, but the compiled metrics have yet to be built. `model.compile_metrics` will be empty until you train or evaluate the model.\n"
     ]
    },
    {
     "name": "stderr",
     "output_type": "stream",
     "text": [
      "WARNING:tensorflow:Compiled the loaded model, but the compiled metrics have yet to be built. `model.compile_metrics` will be empty until you train or evaluate the model.\n",
      "WARNING:absl:Found untraced functions such as _jit_compiled_convolution_op, _jit_compiled_convolution_op, _jit_compiled_convolution_op while saving (showing 3 of 3). These functions will not be directly callable after loading.\n"
     ]
    },
    {
     "name": "stdout",
     "output_type": "stream",
     "text": [
      "INFO:tensorflow:Assets written to: ./3000/assets\n"
     ]
    },
    {
     "name": "stderr",
     "output_type": "stream",
     "text": [
      "INFO:tensorflow:Assets written to: ./3000/assets\n"
     ]
    },
    {
     "name": "stdout",
     "output_type": "stream",
     "text": [
      "t=4000 | time=273.2 | d_loss=-0.00 | g_loss=-0.01\n",
      "WARNING:tensorflow:Compiled the loaded model, but the compiled metrics have yet to be built. `model.compile_metrics` will be empty until you train or evaluate the model.\n"
     ]
    },
    {
     "name": "stderr",
     "output_type": "stream",
     "text": [
      "WARNING:tensorflow:Compiled the loaded model, but the compiled metrics have yet to be built. `model.compile_metrics` will be empty until you train or evaluate the model.\n",
      "WARNING:absl:Found untraced functions such as _jit_compiled_convolution_op, _jit_compiled_convolution_op, _jit_compiled_convolution_op while saving (showing 3 of 3). These functions will not be directly callable after loading.\n"
     ]
    },
    {
     "name": "stdout",
     "output_type": "stream",
     "text": [
      "INFO:tensorflow:Assets written to: ./4000/assets\n"
     ]
    },
    {
     "name": "stderr",
     "output_type": "stream",
     "text": [
      "INFO:tensorflow:Assets written to: ./4000/assets\n"
     ]
    },
    {
     "name": "stdout",
     "output_type": "stream",
     "text": [
      "t=5000 | time=261.2 | d_loss=-0.00 | g_loss=-0.01\n",
      "WARNING:tensorflow:Compiled the loaded model, but the compiled metrics have yet to be built. `model.compile_metrics` will be empty until you train or evaluate the model.\n"
     ]
    },
    {
     "name": "stderr",
     "output_type": "stream",
     "text": [
      "WARNING:tensorflow:Compiled the loaded model, but the compiled metrics have yet to be built. `model.compile_metrics` will be empty until you train or evaluate the model.\n",
      "WARNING:absl:Found untraced functions such as _jit_compiled_convolution_op, _jit_compiled_convolution_op, _jit_compiled_convolution_op while saving (showing 3 of 3). These functions will not be directly callable after loading.\n"
     ]
    },
    {
     "name": "stdout",
     "output_type": "stream",
     "text": [
      "INFO:tensorflow:Assets written to: ./5000/assets\n"
     ]
    },
    {
     "name": "stderr",
     "output_type": "stream",
     "text": [
      "INFO:tensorflow:Assets written to: ./5000/assets\n"
     ]
    },
    {
     "name": "stdout",
     "output_type": "stream",
     "text": [
      "t=6000 | time=365.4 | d_loss=-0.00 | g_loss=-0.02\n",
      "WARNING:tensorflow:Compiled the loaded model, but the compiled metrics have yet to be built. `model.compile_metrics` will be empty until you train or evaluate the model.\n"
     ]
    },
    {
     "name": "stderr",
     "output_type": "stream",
     "text": [
      "WARNING:tensorflow:Compiled the loaded model, but the compiled metrics have yet to be built. `model.compile_metrics` will be empty until you train or evaluate the model.\n",
      "WARNING:absl:Found untraced functions such as _jit_compiled_convolution_op, _jit_compiled_convolution_op, _jit_compiled_convolution_op while saving (showing 3 of 3). These functions will not be directly callable after loading.\n"
     ]
    },
    {
     "name": "stdout",
     "output_type": "stream",
     "text": [
      "INFO:tensorflow:Assets written to: ./6000/assets\n"
     ]
    },
    {
     "name": "stderr",
     "output_type": "stream",
     "text": [
      "INFO:tensorflow:Assets written to: ./6000/assets\n"
     ]
    },
    {
     "name": "stdout",
     "output_type": "stream",
     "text": [
      "t=7000 | time=550.1 | d_loss=-0.00 | g_loss=-0.01\n",
      "WARNING:tensorflow:Compiled the loaded model, but the compiled metrics have yet to be built. `model.compile_metrics` will be empty until you train or evaluate the model.\n"
     ]
    },
    {
     "name": "stderr",
     "output_type": "stream",
     "text": [
      "WARNING:tensorflow:Compiled the loaded model, but the compiled metrics have yet to be built. `model.compile_metrics` will be empty until you train or evaluate the model.\n",
      "WARNING:absl:Found untraced functions such as _jit_compiled_convolution_op, _jit_compiled_convolution_op, _jit_compiled_convolution_op while saving (showing 3 of 3). These functions will not be directly callable after loading.\n"
     ]
    },
    {
     "name": "stdout",
     "output_type": "stream",
     "text": [
      "INFO:tensorflow:Assets written to: ./7000/assets\n"
     ]
    },
    {
     "name": "stderr",
     "output_type": "stream",
     "text": [
      "INFO:tensorflow:Assets written to: ./7000/assets\n"
     ]
    },
    {
     "name": "stdout",
     "output_type": "stream",
     "text": [
      "t=8000 | time=799.1 | d_loss=-0.00 | g_loss=-0.01\n",
      "WARNING:tensorflow:Compiled the loaded model, but the compiled metrics have yet to be built. `model.compile_metrics` will be empty until you train or evaluate the model.\n"
     ]
    },
    {
     "name": "stderr",
     "output_type": "stream",
     "text": [
      "WARNING:tensorflow:Compiled the loaded model, but the compiled metrics have yet to be built. `model.compile_metrics` will be empty until you train or evaluate the model.\n",
      "WARNING:absl:Found untraced functions such as _jit_compiled_convolution_op, _jit_compiled_convolution_op, _jit_compiled_convolution_op while saving (showing 3 of 3). These functions will not be directly callable after loading.\n"
     ]
    },
    {
     "name": "stdout",
     "output_type": "stream",
     "text": [
      "INFO:tensorflow:Assets written to: ./8000/assets\n"
     ]
    },
    {
     "name": "stderr",
     "output_type": "stream",
     "text": [
      "INFO:tensorflow:Assets written to: ./8000/assets\n"
     ]
    },
    {
     "name": "stdout",
     "output_type": "stream",
     "text": [
      "t=9000 | time=645.4 | d_loss=-0.00 | g_loss=-0.01\n",
      "WARNING:tensorflow:Compiled the loaded model, but the compiled metrics have yet to be built. `model.compile_metrics` will be empty until you train or evaluate the model.\n"
     ]
    },
    {
     "name": "stderr",
     "output_type": "stream",
     "text": [
      "WARNING:tensorflow:Compiled the loaded model, but the compiled metrics have yet to be built. `model.compile_metrics` will be empty until you train or evaluate the model.\n",
      "WARNING:absl:Found untraced functions such as _jit_compiled_convolution_op, _jit_compiled_convolution_op, _jit_compiled_convolution_op while saving (showing 3 of 3). These functions will not be directly callable after loading.\n"
     ]
    },
    {
     "name": "stdout",
     "output_type": "stream",
     "text": [
      "INFO:tensorflow:Assets written to: ./9000/assets\n"
     ]
    },
    {
     "name": "stderr",
     "output_type": "stream",
     "text": [
      "INFO:tensorflow:Assets written to: ./9000/assets\n"
     ]
    },
    {
     "name": "stdout",
     "output_type": "stream",
     "text": [
      "t=10000 | time=246.7 | d_loss=-0.00 | g_loss=-0.00\n",
      "WARNING:tensorflow:Compiled the loaded model, but the compiled metrics have yet to be built. `model.compile_metrics` will be empty until you train or evaluate the model.\n"
     ]
    },
    {
     "name": "stderr",
     "output_type": "stream",
     "text": [
      "WARNING:tensorflow:Compiled the loaded model, but the compiled metrics have yet to be built. `model.compile_metrics` will be empty until you train or evaluate the model.\n",
      "WARNING:absl:Found untraced functions such as _jit_compiled_convolution_op, _jit_compiled_convolution_op, _jit_compiled_convolution_op while saving (showing 3 of 3). These functions will not be directly callable after loading.\n"
     ]
    },
    {
     "name": "stdout",
     "output_type": "stream",
     "text": [
      "INFO:tensorflow:Assets written to: ./10000/assets\n"
     ]
    },
    {
     "name": "stderr",
     "output_type": "stream",
     "text": [
      "INFO:tensorflow:Assets written to: ./10000/assets\n"
     ]
    },
    {
     "name": "stdout",
     "output_type": "stream",
     "text": [
      "t=11000 | time=246.6 | d_loss=-0.00 | g_loss=0.00\n",
      "WARNING:tensorflow:Compiled the loaded model, but the compiled metrics have yet to be built. `model.compile_metrics` will be empty until you train or evaluate the model.\n"
     ]
    },
    {
     "name": "stderr",
     "output_type": "stream",
     "text": [
      "WARNING:tensorflow:Compiled the loaded model, but the compiled metrics have yet to be built. `model.compile_metrics` will be empty until you train or evaluate the model.\n",
      "WARNING:absl:Found untraced functions such as _jit_compiled_convolution_op, _jit_compiled_convolution_op, _jit_compiled_convolution_op while saving (showing 3 of 3). These functions will not be directly callable after loading.\n"
     ]
    },
    {
     "name": "stdout",
     "output_type": "stream",
     "text": [
      "INFO:tensorflow:Assets written to: ./11000/assets\n"
     ]
    },
    {
     "name": "stderr",
     "output_type": "stream",
     "text": [
      "INFO:tensorflow:Assets written to: ./11000/assets\n"
     ]
    },
    {
     "name": "stdout",
     "output_type": "stream",
     "text": [
      "t=12000 | time=246.0 | d_loss=-0.00 | g_loss=-0.00\n",
      "WARNING:tensorflow:Compiled the loaded model, but the compiled metrics have yet to be built. `model.compile_metrics` will be empty until you train or evaluate the model.\n"
     ]
    },
    {
     "name": "stderr",
     "output_type": "stream",
     "text": [
      "WARNING:tensorflow:Compiled the loaded model, but the compiled metrics have yet to be built. `model.compile_metrics` will be empty until you train or evaluate the model.\n",
      "WARNING:absl:Found untraced functions such as _jit_compiled_convolution_op, _jit_compiled_convolution_op, _jit_compiled_convolution_op while saving (showing 3 of 3). These functions will not be directly callable after loading.\n"
     ]
    },
    {
     "name": "stdout",
     "output_type": "stream",
     "text": [
      "INFO:tensorflow:Assets written to: ./12000/assets\n"
     ]
    },
    {
     "name": "stderr",
     "output_type": "stream",
     "text": [
      "INFO:tensorflow:Assets written to: ./12000/assets\n"
     ]
    },
    {
     "name": "stdout",
     "output_type": "stream",
     "text": [
      "t=13000 | time=246.3 | d_loss=-0.00 | g_loss=-0.00\n",
      "WARNING:tensorflow:Compiled the loaded model, but the compiled metrics have yet to be built. `model.compile_metrics` will be empty until you train or evaluate the model.\n"
     ]
    },
    {
     "name": "stderr",
     "output_type": "stream",
     "text": [
      "WARNING:tensorflow:Compiled the loaded model, but the compiled metrics have yet to be built. `model.compile_metrics` will be empty until you train or evaluate the model.\n",
      "WARNING:absl:Found untraced functions such as _jit_compiled_convolution_op, _jit_compiled_convolution_op, _jit_compiled_convolution_op while saving (showing 3 of 3). These functions will not be directly callable after loading.\n"
     ]
    },
    {
     "name": "stdout",
     "output_type": "stream",
     "text": [
      "INFO:tensorflow:Assets written to: ./13000/assets\n"
     ]
    },
    {
     "name": "stderr",
     "output_type": "stream",
     "text": [
      "INFO:tensorflow:Assets written to: ./13000/assets\n"
     ]
    },
    {
     "name": "stdout",
     "output_type": "stream",
     "text": [
      "t=14000 | time=246.7 | d_loss=-0.00 | g_loss=-0.01\n",
      "WARNING:tensorflow:Compiled the loaded model, but the compiled metrics have yet to be built. `model.compile_metrics` will be empty until you train or evaluate the model.\n"
     ]
    },
    {
     "name": "stderr",
     "output_type": "stream",
     "text": [
      "WARNING:tensorflow:Compiled the loaded model, but the compiled metrics have yet to be built. `model.compile_metrics` will be empty until you train or evaluate the model.\n",
      "WARNING:absl:Found untraced functions such as _jit_compiled_convolution_op, _jit_compiled_convolution_op, _jit_compiled_convolution_op while saving (showing 3 of 3). These functions will not be directly callable after loading.\n"
     ]
    },
    {
     "name": "stdout",
     "output_type": "stream",
     "text": [
      "INFO:tensorflow:Assets written to: ./14000/assets\n"
     ]
    },
    {
     "name": "stderr",
     "output_type": "stream",
     "text": [
      "INFO:tensorflow:Assets written to: ./14000/assets\n"
     ]
    },
    {
     "name": "stdout",
     "output_type": "stream",
     "text": [
      "t=15000 | time=246.0 | d_loss=-0.00 | g_loss=-0.01\n",
      "WARNING:tensorflow:Compiled the loaded model, but the compiled metrics have yet to be built. `model.compile_metrics` will be empty until you train or evaluate the model.\n"
     ]
    },
    {
     "name": "stderr",
     "output_type": "stream",
     "text": [
      "WARNING:tensorflow:Compiled the loaded model, but the compiled metrics have yet to be built. `model.compile_metrics` will be empty until you train or evaluate the model.\n",
      "WARNING:absl:Found untraced functions such as _jit_compiled_convolution_op, _jit_compiled_convolution_op, _jit_compiled_convolution_op while saving (showing 3 of 3). These functions will not be directly callable after loading.\n"
     ]
    },
    {
     "name": "stdout",
     "output_type": "stream",
     "text": [
      "INFO:tensorflow:Assets written to: ./15000/assets\n"
     ]
    },
    {
     "name": "stderr",
     "output_type": "stream",
     "text": [
      "INFO:tensorflow:Assets written to: ./15000/assets\n"
     ]
    },
    {
     "name": "stdout",
     "output_type": "stream",
     "text": [
      "t=16000 | time=246.9 | d_loss=-0.00 | g_loss=-0.00\n",
      "WARNING:tensorflow:Compiled the loaded model, but the compiled metrics have yet to be built. `model.compile_metrics` will be empty until you train or evaluate the model.\n"
     ]
    },
    {
     "name": "stderr",
     "output_type": "stream",
     "text": [
      "WARNING:tensorflow:Compiled the loaded model, but the compiled metrics have yet to be built. `model.compile_metrics` will be empty until you train or evaluate the model.\n",
      "WARNING:absl:Found untraced functions such as _jit_compiled_convolution_op, _jit_compiled_convolution_op, _jit_compiled_convolution_op while saving (showing 3 of 3). These functions will not be directly callable after loading.\n"
     ]
    },
    {
     "name": "stdout",
     "output_type": "stream",
     "text": [
      "INFO:tensorflow:Assets written to: ./16000/assets\n"
     ]
    },
    {
     "name": "stderr",
     "output_type": "stream",
     "text": [
      "INFO:tensorflow:Assets written to: ./16000/assets\n"
     ]
    },
    {
     "name": "stdout",
     "output_type": "stream",
     "text": [
      "t=17000 | time=247.7 | d_loss=-0.00 | g_loss=-0.00\n",
      "WARNING:tensorflow:Compiled the loaded model, but the compiled metrics have yet to be built. `model.compile_metrics` will be empty until you train or evaluate the model.\n"
     ]
    },
    {
     "name": "stderr",
     "output_type": "stream",
     "text": [
      "WARNING:tensorflow:Compiled the loaded model, but the compiled metrics have yet to be built. `model.compile_metrics` will be empty until you train or evaluate the model.\n",
      "WARNING:absl:Found untraced functions such as _jit_compiled_convolution_op, _jit_compiled_convolution_op, _jit_compiled_convolution_op while saving (showing 3 of 3). These functions will not be directly callable after loading.\n"
     ]
    },
    {
     "name": "stdout",
     "output_type": "stream",
     "text": [
      "INFO:tensorflow:Assets written to: ./17000/assets\n"
     ]
    },
    {
     "name": "stderr",
     "output_type": "stream",
     "text": [
      "INFO:tensorflow:Assets written to: ./17000/assets\n"
     ]
    },
    {
     "name": "stdout",
     "output_type": "stream",
     "text": [
      "t=18000 | time=246.3 | d_loss=-0.00 | g_loss=-0.00\n",
      "WARNING:tensorflow:Compiled the loaded model, but the compiled metrics have yet to be built. `model.compile_metrics` will be empty until you train or evaluate the model.\n"
     ]
    },
    {
     "name": "stderr",
     "output_type": "stream",
     "text": [
      "WARNING:tensorflow:Compiled the loaded model, but the compiled metrics have yet to be built. `model.compile_metrics` will be empty until you train or evaluate the model.\n",
      "WARNING:absl:Found untraced functions such as _jit_compiled_convolution_op, _jit_compiled_convolution_op, _jit_compiled_convolution_op while saving (showing 3 of 3). These functions will not be directly callable after loading.\n"
     ]
    },
    {
     "name": "stdout",
     "output_type": "stream",
     "text": [
      "INFO:tensorflow:Assets written to: ./18000/assets\n"
     ]
    },
    {
     "name": "stderr",
     "output_type": "stream",
     "text": [
      "INFO:tensorflow:Assets written to: ./18000/assets\n"
     ]
    },
    {
     "name": "stdout",
     "output_type": "stream",
     "text": [
      "t=19000 | time=246.9 | d_loss=-0.00 | g_loss=-0.00\n",
      "WARNING:tensorflow:Compiled the loaded model, but the compiled metrics have yet to be built. `model.compile_metrics` will be empty until you train or evaluate the model.\n"
     ]
    },
    {
     "name": "stderr",
     "output_type": "stream",
     "text": [
      "WARNING:tensorflow:Compiled the loaded model, but the compiled metrics have yet to be built. `model.compile_metrics` will be empty until you train or evaluate the model.\n",
      "WARNING:absl:Found untraced functions such as _jit_compiled_convolution_op, _jit_compiled_convolution_op, _jit_compiled_convolution_op while saving (showing 3 of 3). These functions will not be directly callable after loading.\n"
     ]
    },
    {
     "name": "stdout",
     "output_type": "stream",
     "text": [
      "INFO:tensorflow:Assets written to: ./19000/assets\n"
     ]
    },
    {
     "name": "stderr",
     "output_type": "stream",
     "text": [
      "INFO:tensorflow:Assets written to: ./19000/assets\n"
     ]
    },
    {
     "name": "stdout",
     "output_type": "stream",
     "text": [
      "t=20000 | time=246.3 | d_loss=-0.00 | g_loss=0.00\n",
      "WARNING:tensorflow:Compiled the loaded model, but the compiled metrics have yet to be built. `model.compile_metrics` will be empty until you train or evaluate the model.\n"
     ]
    },
    {
     "name": "stderr",
     "output_type": "stream",
     "text": [
      "WARNING:tensorflow:Compiled the loaded model, but the compiled metrics have yet to be built. `model.compile_metrics` will be empty until you train or evaluate the model.\n",
      "WARNING:absl:Found untraced functions such as _jit_compiled_convolution_op, _jit_compiled_convolution_op, _jit_compiled_convolution_op while saving (showing 3 of 3). These functions will not be directly callable after loading.\n"
     ]
    },
    {
     "name": "stdout",
     "output_type": "stream",
     "text": [
      "INFO:tensorflow:Assets written to: ./20000/assets\n"
     ]
    },
    {
     "name": "stderr",
     "output_type": "stream",
     "text": [
      "INFO:tensorflow:Assets written to: ./20000/assets\n"
     ]
    },
    {
     "name": "stdout",
     "output_type": "stream",
     "text": [
      "saved  visual/wgan/generating.gif\n"
     ]
    },
    {
     "data": {
      "text/plain": [
       "<Figure size 640x480 with 0 Axes>"
      ]
     },
     "metadata": {},
     "output_type": "display_data"
    }
   ],
   "source": [
    "train(m, STEP, D_LOOP)"
   ]
  },
  {
   "cell_type": "code",
   "execution_count": 10,
   "id": "08443bc4",
   "metadata": {},
   "outputs": [
    {
     "data": {
      "text/plain": [
       "(2048, 24, 24, 1)"
      ]
     },
     "execution_count": 10,
     "metadata": {},
     "output_type": "execute_result"
    }
   ],
   "source": [
    "a = train_generator.next()\n",
    "a.shape"
   ]
  },
  {
   "cell_type": "code",
   "execution_count": 7,
   "id": "080bbda8",
   "metadata": {},
   "outputs": [],
   "source": [
    "import matplotlib.pyplot as plt\n",
    "import cv2"
   ]
  },
  {
   "cell_type": "code",
   "execution_count": 8,
   "id": "a2b8bd44",
   "metadata": {},
   "outputs": [
    {
     "data": {
      "image/png": "[encoded data removed]",
      "text/plain": [
       "<Figure size 800x800 with 10 Axes>"
      ]
     },
     "metadata": {},
     "output_type": "display_data"
    }
   ],
   "source": [
    "count = 1 \n",
    "plt.figure(num='img',figsize=(8,8))\n",
    "for i in range(10):\n",
    "    \n",
    "    a = train_generator.next()\n",
    "    img = a[0].reshape(24,24,1)\n",
    "    img = (img+1)/2*255\n",
    "    \n",
    "    img = cv2.cvtColor(img, cv2.COLOR_GRAY2RGB)\n",
    "    img = img.astype('int')\n",
    "    plt.subplot(5,2,i+1)\n",
    "    plt.imshow(img)\n",
    "    \n",
    "    count+=1\n",
    "plt.show()"
   ]
  },
  {
   "cell_type": "code",
   "execution_count": 5,
   "id": "8f421439",
   "metadata": {},
   "outputs": [
    {
     "data": {
      "text/plain": [
       "array([[[[-1.       ],\n",
       "         [-1.       ],\n",
       "         [-1.       ],\n",
       "         ...,\n",
       "         [-1.       ],\n",
       "         [-1.       ],\n",
       "         [-1.       ]],\n",
       "\n",
       "        [[-1.       ],\n",
       "         [-1.       ],\n",
       "         [-1.       ],\n",
       "         ...,\n",
       "         [-1.       ],\n",
       "         [-1.       ],\n",
       "         [-1.       ]],\n",
       "\n",
       "        [[-1.       ],\n",
       "         [-1.       ],\n",
       "         [-1.       ],\n",
       "         ...,\n",
       "         [-1.       ],\n",
       "         [-1.       ],\n",
       "         [-1.       ]],\n",
       "\n",
       "        ...,\n",
       "\n",
       "        [[-1.       ],\n",
       "         [-1.       ],\n",
       "         [-1.       ],\n",
       "         ...,\n",
       "         [-1.       ],\n",
       "         [-1.       ],\n",
       "         [-1.       ]],\n",
       "\n",
       "        [[-1.       ],\n",
       "         [-1.       ],\n",
       "         [-1.       ],\n",
       "         ...,\n",
       "         [-1.       ],\n",
       "         [-1.       ],\n",
       "         [-1.       ]],\n",
       "\n",
       "        [[-1.       ],\n",
       "         [-1.       ],\n",
       "         [-1.       ],\n",
       "         ...,\n",
       "         [-1.       ],\n",
       "         [-1.       ],\n",
       "         [-1.       ]]],\n",
       "\n",
       "\n",
       "       [[[-1.       ],\n",
       "         [-1.       ],\n",
       "         [-1.       ],\n",
       "         ...,\n",
       "         [-1.       ],\n",
       "         [-1.       ],\n",
       "         [-1.       ]],\n",
       "\n",
       "        [[-1.       ],\n",
       "         [-1.       ],\n",
       "         [-1.       ],\n",
       "         ...,\n",
       "         [-1.       ],\n",
       "         [-1.       ],\n",
       "         [-1.       ]],\n",
       "\n",
       "        [[-1.       ],\n",
       "         [-1.       ],\n",
       "         [-1.       ],\n",
       "         ...,\n",
       "         [-1.       ],\n",
       "         [-1.       ],\n",
       "         [-1.       ]],\n",
       "\n",
       "        ...,\n",
       "\n",
       "        [[-1.       ],\n",
       "         [-1.       ],\n",
       "         [-1.       ],\n",
       "         ...,\n",
       "         [-1.       ],\n",
       "         [-1.       ],\n",
       "         [-1.       ]],\n",
       "\n",
       "        [[-1.       ],\n",
       "         [-1.       ],\n",
       "         [-1.       ],\n",
       "         ...,\n",
       "         [-1.       ],\n",
       "         [-1.       ],\n",
       "         [-1.       ]],\n",
       "\n",
       "        [[-1.       ],\n",
       "         [-1.       ],\n",
       "         [-1.       ],\n",
       "         ...,\n",
       "         [-1.       ],\n",
       "         [-1.       ],\n",
       "         [-1.       ]]],\n",
       "\n",
       "\n",
       "       [[[-1.       ],\n",
       "         [-1.       ],\n",
       "         [-1.       ],\n",
       "         ...,\n",
       "         [-1.       ],\n",
       "         [-1.       ],\n",
       "         [-1.       ]],\n",
       "\n",
       "        [[-1.       ],\n",
       "         [-1.       ],\n",
       "         [-1.       ],\n",
       "         ...,\n",
       "         [-1.       ],\n",
       "         [-1.       ],\n",
       "         [-1.       ]],\n",
       "\n",
       "        [[-1.       ],\n",
       "         [-1.       ],\n",
       "         [-1.       ],\n",
       "         ...,\n",
       "         [-1.       ],\n",
       "         [-1.       ],\n",
       "         [-1.       ]],\n",
       "\n",
       "        ...,\n",
       "\n",
       "        [[-1.       ],\n",
       "         [-1.       ],\n",
       "         [-1.       ],\n",
       "         ...,\n",
       "         [-1.       ],\n",
       "         [-1.       ],\n",
       "         [-1.       ]],\n",
       "\n",
       "        [[-1.       ],\n",
       "         [-1.       ],\n",
       "         [-1.       ],\n",
       "         ...,\n",
       "         [-1.       ],\n",
       "         [-1.       ],\n",
       "         [-1.       ]],\n",
       "\n",
       "        [[-1.       ],\n",
       "         [-1.       ],\n",
       "         [-1.       ],\n",
       "         ...,\n",
       "         [-1.       ],\n",
       "         [-1.       ],\n",
       "         [-1.       ]]],\n",
       "\n",
       "\n",
       "       ...,\n",
       "\n",
       "\n",
       "       [[[-1.       ],\n",
       "         [-1.       ],\n",
       "         [-1.       ],\n",
       "         ...,\n",
       "         [-1.       ],\n",
       "         [-1.       ],\n",
       "         [-1.       ]],\n",
       "\n",
       "        [[-1.       ],\n",
       "         [-1.       ],\n",
       "         [-1.       ],\n",
       "         ...,\n",
       "         [-1.       ],\n",
       "         [-1.       ],\n",
       "         [-1.       ]],\n",
       "\n",
       "        [[-1.       ],\n",
       "         [-1.       ],\n",
       "         [-1.       ],\n",
       "         ...,\n",
       "         [-1.       ],\n",
       "         [-1.       ],\n",
       "         [-1.       ]],\n",
       "\n",
       "        ...,\n",
       "\n",
       "        [[-1.       ],\n",
       "         [-1.       ],\n",
       "         [ 0.2313726],\n",
       "         ...,\n",
       "         [ 0.2313726],\n",
       "         [-1.       ],\n",
       "         [-1.       ]],\n",
       "\n",
       "        [[-1.       ],\n",
       "         [-1.       ],\n",
       "         [-1.       ],\n",
       "         ...,\n",
       "         [-1.       ],\n",
       "         [-1.       ],\n",
       "         [-1.       ]],\n",
       "\n",
       "        [[-1.       ],\n",
       "         [-1.       ],\n",
       "         [-1.       ],\n",
       "         ...,\n",
       "         [-1.       ],\n",
       "         [-1.       ],\n",
       "         [-1.       ]]],\n",
       "\n",
       "\n",
       "       [[[-1.       ],\n",
       "         [-1.       ],\n",
       "         [-1.       ],\n",
       "         ...,\n",
       "         [-1.       ],\n",
       "         [-1.       ],\n",
       "         [-1.       ]],\n",
       "\n",
       "        [[-1.       ],\n",
       "         [-1.       ],\n",
       "         [-1.       ],\n",
       "         ...,\n",
       "         [-1.       ],\n",
       "         [-1.       ],\n",
       "         [-1.       ]],\n",
       "\n",
       "        [[-1.       ],\n",
       "         [-1.       ],\n",
       "         [-1.       ],\n",
       "         ...,\n",
       "         [-1.       ],\n",
       "         [-1.       ],\n",
       "         [-1.       ]],\n",
       "\n",
       "        ...,\n",
       "\n",
       "        [[-1.       ],\n",
       "         [-1.       ],\n",
       "         [ 0.2313726],\n",
       "         ...,\n",
       "         [ 0.2313726],\n",
       "         [-1.       ],\n",
       "         [-1.       ]],\n",
       "\n",
       "        [[-1.       ],\n",
       "         [-1.       ],\n",
       "         [-1.       ],\n",
       "         ...,\n",
       "         [-1.       ],\n",
       "         [-1.       ],\n",
       "         [-1.       ]],\n",
       "\n",
       "        [[-1.       ],\n",
       "         [-1.       ],\n",
       "         [-1.       ],\n",
       "         ...,\n",
       "         [-1.       ],\n",
       "         [-1.       ],\n",
       "         [-1.       ]]],\n",
       "\n",
       "\n",
       "       [[[-1.       ],\n",
       "         [-1.       ],\n",
       "         [-1.       ],\n",
       "         ...,\n",
       "         [-1.       ],\n",
       "         [-1.       ],\n",
       "         [-1.       ]],\n",
       "\n",
       "        [[-1.       ],\n",
       "         [-1.       ],\n",
       "         [-1.       ],\n",
       "         ...,\n",
       "         [-1.       ],\n",
       "         [-1.       ],\n",
       "         [-1.       ]],\n",
       "\n",
       "        [[-1.       ],\n",
       "         [-1.       ],\n",
       "         [-1.       ],\n",
       "         ...,\n",
       "         [-1.       ],\n",
       "         [-1.       ],\n",
       "         [-1.       ]],\n",
       "\n",
       "        ...,\n",
       "\n",
       "        [[-1.       ],\n",
       "         [-1.       ],\n",
       "         [ 0.2313726],\n",
       "         ...,\n",
       "         [ 0.2313726],\n",
       "         [-1.       ],\n",
       "         [-1.       ]],\n",
       "\n",
       "        [[-1.       ],\n",
       "         [-1.       ],\n",
       "         [ 0.2313726],\n",
       "         ...,\n",
       "         [ 0.2313726],\n",
       "         [-1.       ],\n",
       "         [-1.       ]],\n",
       "\n",
       "        [[-1.       ],\n",
       "         [-1.       ],\n",
       "         [ 0.2313726],\n",
       "         ...,\n",
       "         [ 0.2313726],\n",
       "         [-1.       ],\n",
       "         [-1.       ]]]], dtype=float32)"
      ]
     },
     "execution_count": 5,
     "metadata": {},
     "output_type": "execute_result"
    }
   ],
   "source": [
    "a = train_generator.next()\n",
    "a"
   ]
  }
 ],
 "metadata": {
  "kernelspec": {
   "display_name": "pixel-art",
   "language": "python",
   "name": "pixel-art"
  },
  "language_info": {
   "codemirror_mode": {
    "name": "ipython",
    "version": 3
   },
   "file_extension": ".py",
   "mimetype": "text/x-python",
   "name": "python",
   "nbconvert_exporter": "python",
   "pygments_lexer": "ipython3",
   "version": "3.10.6"
  }
 },
 "nbformat": 4,
 "nbformat_minor": 5
}
